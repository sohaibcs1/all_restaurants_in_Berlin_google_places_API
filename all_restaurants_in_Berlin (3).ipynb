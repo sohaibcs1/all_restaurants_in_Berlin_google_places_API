{
  "cells": [
    {
      "cell_type": "code",
      "execution_count": 4,
      "metadata": {
        "colab": {
          "base_uri": "https://localhost:8080/"
        },
        "id": "BUiaL08Z-i9K",
        "outputId": "eaa36a5d-019c-4b6f-d273-6e21b39210dc"
      },
      "outputs": [
        {
          "name": "stdout",
          "output_type": "stream",
          "text": [
            "Looking in indexes: https://pypi.org/simple, https://us-python.pkg.dev/colab-wheels/public/simple/\n",
            "Requirement already satisfied: googlemaps in /usr/local/lib/python3.8/dist-packages (4.10.0)\n",
            "Requirement already satisfied: requests<3.0,>=2.20.0 in /usr/local/lib/python3.8/dist-packages (from googlemaps) (2.25.1)\n",
            "Requirement already satisfied: urllib3<1.27,>=1.21.1 in /usr/local/lib/python3.8/dist-packages (from requests<3.0,>=2.20.0->googlemaps) (1.26.14)\n",
            "Requirement already satisfied: certifi>=2017.4.17 in /usr/local/lib/python3.8/dist-packages (from requests<3.0,>=2.20.0->googlemaps) (2022.12.7)\n",
            "Requirement already satisfied: chardet<5,>=3.0.2 in /usr/local/lib/python3.8/dist-packages (from requests<3.0,>=2.20.0->googlemaps) (4.0.0)\n",
            "Requirement already satisfied: idna<3,>=2.5 in /usr/local/lib/python3.8/dist-packages (from requests<3.0,>=2.20.0->googlemaps) (2.10)\n"
          ]
        }
      ],
      "source": [
        "! pip install -U googlemaps"
      ]
    },
    {
      "cell_type": "code",
      "execution_count": 5,
      "metadata": {
        "id": "kFYDA2zu_o-f"
      },
      "outputs": [],
      "source": [
        "import googlemaps \n",
        "import pandas as pd\n",
        "import requests"
      ]
    },
    {
      "cell_type": "code",
      "execution_count": null,
      "metadata": {
        "id": "Q_C4ofPISTdH"
      },
      "outputs": [],
      "source": []
    },
    {
      "cell_type": "code",
      "execution_count": 21,
      "metadata": {
        "colab": {
          "base_uri": "https://localhost:8080/"
        },
        "id": "BHQPk1QaF9wl",
        "outputId": "2871baa5-1efa-4c03-fa69-316807144be9"
      },
      "outputs": [
        {
          "name": "stdout",
          "output_type": "stream",
          "text": [
            "                                                Name  \\\n",
            "0                                           Food Box   \n",
            "1                                    The Fresh Seeds   \n",
            "2                                        Eat Culture   \n",
            "3                 Frittenwerk Berlin Friedrichstraße   \n",
            "4                              China Food Restaurant   \n",
            "..                                               ...   \n",
            "56   W - Der Imbiss | vegan vegetarisches Restaurant   \n",
            "57                                         Mr. Gyros   \n",
            "58                                     Swing Kitchen   \n",
            "59                                          Curry 61   \n",
            "616                                     Risa Chicken   \n",
            "\n",
            "                                               Address Phone Website Rating  \n",
            "0                            Ganghoferstraße 1, Berlin                    5  \n",
            "1                           Invalidenstraße 90, Berlin                  4.1  \n",
            "2    Einkaufsbahnhof Alexanderplatz, Dircksenstraße...                  4.1  \n",
            "3                           Friedrichstraße 69, Berlin                    4  \n",
            "4                              Schloßstraße 91, Berlin                    4  \n",
            "..                                                 ...   ...     ...    ...  \n",
            "56                             Fuggerstraße 20, Berlin                  4.5  \n",
            "57                          Grunewaldstraße 54, Berlin                  4.5  \n",
            "58                      Rosenthaler Str. 63-64, Berlin                  4.4  \n",
            "59                        Oranienburger Str. 6, Berlin                  4.6  \n",
            "616                           Sonnenallee 26 D, Berlin                  4.1  \n",
            "\n",
            "[61 rows x 5 columns]\n"
          ]
        }
      ],
      "source": [
        "import requests\n",
        "import pandas as pd\n",
        "import time\n",
        "\n",
        "# Set the API endpoint\n",
        "url = \"https://maps.googleapis.com/maps/api/place/nearbysearch/json\"\n",
        "\n",
        "# Set the parameters for the API request\n",
        "params = {\n",
        "    \"location\": \"52.520008,13.404954\",  # Berlin city center\n",
        "    \"radius\": \"20000\",  # 20 km radius\n",
        "    \"type\": \"restaurant\",\n",
        "    \"keyword\": \"food\",  # Search for restaurants with the keyword \"food\"\n",
        "    \"key\": \"Your_API\"  # Replace with your API key\n",
        "}\n",
        "\n",
        "# Initialize an empty DataFrame to store the results\n",
        "restaurants_df = pd.DataFrame(columns=[\"Name\", \"Address\", \"Phone\", \"Website\", \"Rating\"])\n",
        "\n",
        "# Loop through the pages and extract the restaurant data\n",
        "while len(restaurants_df) < 1000:\n",
        "    # Make the API request\n",
        "    response = requests.get(url, params=params)\n",
        "    data = response.json()\n",
        "\n",
        "    # Extract the restaurant data from the API response and append it to the DataFrame\n",
        "    for restaurant in data[\"results\"]:\n",
        "        name = restaurant.get(\"name\", \"\")\n",
        "        address = restaurant.get(\"vicinity\", \"\")\n",
        "        phone = restaurant.get(\"formatted_phone_number\", \"\")\n",
        "        website = restaurant.get(\"website\", \"\")\n",
        "        rating = restaurant.get(\"rating\", 0)\n",
        "        restaurants_df = restaurants_df.append({\"Name\": name, \"Address\": address, \"Phone\": phone, \"Website\": website, \"Rating\": rating}, ignore_index=True)\n",
        "\n",
        "        # Check if we have enough results\n",
        "        if len(restaurants_df) >= 1000:\n",
        "            break\n",
        "\n",
        "    # Check if there are more results\n",
        "    next_page_token = data.get(\"next_page_token\", None)\n",
        "\n",
        "    # Wait for a short time before making the next request\n",
        "    time.sleep(2)\n",
        "\n",
        "    # Set the next page token parameter\n",
        "    while next_page_token is not None and len(restaurants_df) < 1000:\n",
        "        params[\"pagetoken\"] = next_page_token\n",
        "        response = requests.get(url, params=params)\n",
        "        data = response.json()\n",
        "        next_page_token = data.get(\"next_page_token\", None)\n",
        "        \n",
        "        # Extract the restaurant data from the API response and append it to the DataFrame\n",
        "        for restaurant in data[\"results\"]:\n",
        "            name = restaurant.get(\"name\", \"\")\n",
        "            address = restaurant.get(\"vicinity\", \"\")\n",
        "            phone = restaurant.get(\"formatted_phone_number\", \"\")\n",
        "            website = restaurant.get(\"website\", \"\")\n",
        "            rating = restaurant.get(\"rating\", 0)\n",
        "            restaurants_df = restaurants_df.append({\"Name\": name, \"Address\": address, \"Phone\": phone, \"Website\": website, \"Rating\": rating}, ignore_index=True)\n",
        "            \n",
        "            # Check if we have enough results\n",
        "            if len(restaurants_df) >= 1000:\n",
        "                break\n",
        "            \n",
        "        # Wait for a short time before making the next request\n",
        "        time.sleep(2)\n",
        "\n",
        "# Drop any duplicate rows from the DataFrame\n",
        "restaurants_df.drop_duplicates(inplace=True)\n",
        "\n",
        "# Print the DataFrame\n",
        "print(restaurants_df.head(1000))\n"
      ]
    },
    {
      "cell_type": "code",
      "execution_count": 22,
      "metadata": {
        "id": "6aXUgDvNOWlt"
      },
      "outputs": [],
      "source": [
        "json_string = restaurants_df.to_json(orient='records')"
      ]
    },
    {
      "cell_type": "code",
      "execution_count": 23,
      "metadata": {
        "colab": {
          "base_uri": "https://localhost:8080/",
          "height": 452
        },
        "id": "lI3qB82HHY0y",
        "outputId": "383594ca-a8b9-486c-86f4-704f4982dafd"
      },
      "outputs": [
        {
          "data": {
            "application/vnd.google.colaboratory.intrinsic+json": {
              "type": "string"
            },
            "text/plain": [
              "'[{\"Name\":\"Food Box\",\"Address\":\"Ganghoferstra\\\\u00dfe 1, Berlin\",\"Phone\":\"\",\"Website\":\"\",\"Rating\":5},{\"Name\":\"The Fresh Seeds\",\"Address\":\"Invalidenstra\\\\u00dfe 90, Berlin\",\"Phone\":\"\",\"Website\":\"\",\"Rating\":4.1},{\"Name\":\"Eat Culture\",\"Address\":\"Einkaufsbahnhof Alexanderplatz, Dircksenstra\\\\u00dfe 2, Berlin\",\"Phone\":\"\",\"Website\":\"\",\"Rating\":4.1},{\"Name\":\"Frittenwerk Berlin Friedrichstra\\\\u00dfe\",\"Address\":\"Friedrichstra\\\\u00dfe 69, Berlin\",\"Phone\":\"\",\"Website\":\"\",\"Rating\":4},{\"Name\":\"China Food Restaurant\",\"Address\":\"Schlo\\\\u00dfstra\\\\u00dfe 91, Berlin\",\"Phone\":\"\",\"Website\":\"\",\"Rating\":4},{\"Name\":\"Happy food\",\"Address\":\"Danziger Str. 245, Berlin\",\"Phone\":\"\",\"Website\":\"\",\"Rating\":4},{\"Name\":\"Curry and Burger\",\"Address\":\"Hannah-Arendt-Stra\\\\u00dfe 1, Berlin\",\"Phone\":\"\",\"Website\":\"\",\"Rating\":4.3},{\"Name\":\"Adam-Restaurant M\\\\u00fcllerstra\\\\u00dfe\",\"Address\":\"M\\\\u00fcllerstra\\\\u00dfe 54, Berlin\",\"Phone\":\"\",\"Website\":\"\",\"Rating\":4.4},{\"Name\":\"BurgerZone\",\"Address\":\"Maa\\\\u00dfenstra\\\\u00dfe 2, Berlin\",\"Phone\":\"\",\"Website\":\"\",\"Rating\":4.3},{\"Name\":\"Daluma\",\"Address\":\"Weinbergsweg 3, Berlin\",\"Phone\":\"\",\"Website\":\"\",\"Rating\":3.9},{\"Name\":\"Burgermeister Potsdamer Platz\",\"Address\":\"Potsdamer Platz 1, Berlin\",\"Phone\":\"\",\"Website\":\"\",\"Rating\":4.3},{\"Name\":\"BURGERAMT\",\"Address\":\"Krossener Str. 21-22, Berlin\",\"Phone\":\"\",\"Website\":\"\",\"Rating\":4.4},{\"Name\":\"Vietnamesisches Restaurant - GAO Fresh.Food.Fast\",\"Address\":\"Landsberger Allee 68D, Berlin\",\"Phone\":\"\",\"Website\":\"\",\"Rating\":4.5},{\"Name\":\"CloudEatery\",\"Address\":\"Spandauer Str. 2, Berlin\",\"Phone\":\"\",\"Website\":\"\",\"Rating\":4.9},{\"Name\":\"Dolores Mitte\",\"Address\":\"Rosa-Luxemburg-Stra\\\\u00dfe 7, Berlin\",\"Phone\":\"\",\"Website\":\"\",\"Rating\":4.4},{\"Name\":\"Fadi Food\",\"Address\":\"Potsdamer Str. 117, Berlin\",\"Phone\":\"\",\"Website\":\"\",\"Rating\":4.3},{\"Name\":\"Food Stop\",\"Address\":\"Freiheit 54, Berlin\",\"Phone\":\"\",\"Website\":\"\",\"Rating\":4.1},{\"Name\":\"Delicious Food GmbH\",\"Address\":\"Kurf\\\\u00fcrstendamm 224, Berlin\",\"Phone\":\"\",\"Website\":\"\",\"Rating\":0},{\"Name\":\"Burgermeister Schlesisches Tor\",\"Address\":\"U1 Schlesisches Tor, Oberbaumstra\\\\u00dfe 8, Berlin\",\"Phone\":\"\",\"Website\":\"\",\"Rating\":4.7},{\"Name\":\"Annhi Food (Asia Food)\",\"Address\":\"Karl-Marx-Stra\\\\u00dfe 215, Berlin\",\"Phone\":\"\",\"Website\":\"\",\"Rating\":4},{\"Name\":\"Fattoush - Lebanese Fresh Food\",\"Address\":\"Fehrbelliner Platz 00, Berlin\",\"Phone\":\"\",\"Website\":\"\",\"Rating\":4.6},{\"Name\":\"Saigon Food Restaurant\",\"Address\":\"Nollendorfstra\\\\u00dfe 21A, Berlin\",\"Phone\":\"\",\"Website\":\"\",\"Rating\":4.8},{\"Name\":\"Happy food\",\"Address\":\"Allee der Kosmonauten 199, Berlin\",\"Phone\":\"\",\"Website\":\"\",\"Rating\":4.4},{\"Name\":\"MontRaw Restaurant\",\"Address\":\"Torstra\\\\u00dfe 189, Berlin\",\"Phone\":\"\",\"Website\":\"\",\"Rating\":4.6},{\"Name\":\"Dolores Wittenbergplatz\",\"Address\":\"Bayreuther Str. 36, Berlin\",\"Phone\":\"\",\"Website\":\"\",\"Rating\":4.3},{\"Name\":\"Italian Food Berlin\",\"Address\":\"Kastanienallee 4, Berlin\",\"Phone\":\"\",\"Website\":\"\",\"Rating\":4.4},{\"Name\":\"FOOD BROTHER\",\"Address\":\"Rosenthaler Str. 67, Berlin\",\"Phone\":\"\",\"Website\":\"\",\"Rating\":4.4},{\"Name\":\"Falafel\",\"Address\":\"Wilmersdorfer Str. 32, Berlin\",\"Phone\":\"\",\"Website\":\"\",\"Rating\":4.6},{\"Name\":\"goldies\",\"Address\":\"Oranienstra\\\\u00dfe 6, Berlin\",\"Phone\":\"\",\"Website\":\"\",\"Rating\":4.4},{\"Name\":\"R\\\\u00fcyam Gem\\\\u00fcse Kebab\",\"Address\":\"Hauptstra\\\\u00dfe 133, Berlin\",\"Phone\":\"\",\"Website\":\"\",\"Rating\":4.8},{\"Name\":\"Five Guys\",\"Address\":\"Alexanderpl. 2, Berlin\",\"Phone\":\"\",\"Website\":\"\",\"Rating\":3.7},{\"Name\":\"Ranush Otient Restaurant\",\"Address\":\"Wilhelmstra\\\\u00dfe 41A, Berlin\",\"Phone\":\"\",\"Website\":\"\",\"Rating\":4.4},{\"Name\":\"D\\\\u00f6ner Kebab Restaurant TERAS Berlin\",\"Address\":\"Wilhelmstra\\\\u00dfe 45, Berlin\",\"Phone\":\"\",\"Website\":\"\",\"Rating\":4.6},{\"Name\":\"Hisar fresh food\",\"Address\":\"Yorckstra\\\\u00dfe 49, Berlin\",\"Phone\":\"\",\"Website\":\"\",\"Rating\":4.3},{\"Name\":\"DALUMA\",\"Address\":\"Schl\\\\u00fcterstra\\\\u00dfe 38, Berlin\",\"Phone\":\"\",\"Website\":\"\",\"Rating\":4.1},{\"Name\":\"Noosh Restaurant Berlin\",\"Address\":\"Kantstra\\\\u00dfe 143, Berlin\",\"Phone\":\"\",\"Website\":\"\",\"Rating\":4.9},{\"Name\":\"DALUMA\",\"Address\":\"Tauentzienstra\\\\u00dfe 21-24, Berlin\",\"Phone\":\"\",\"Website\":\"\",\"Rating\":4.2},{\"Name\":\"K\\\\u00f6fteci Fresh Food\",\"Address\":\"Potsdamer Str. 168, Berlin\",\"Phone\":\"\",\"Website\":\"\",\"Rating\":4.6},{\"Name\":\"Mehas Food Berlin\",\"Address\":\"Landsberger Allee 277, Berlin\",\"Phone\":\"\",\"Website\":\"\",\"Rating\":4.3},{\"Name\":\"Frittenwerk Mall of Berlin\",\"Address\":\"Leipziger Pl. 12, Berlin\",\"Phone\":\"\",\"Website\":\"\",\"Rating\":4},{\"Name\":\"RefuEat Soulfood & Catering\",\"Address\":\"Bautzener Str. 40, Berlin\",\"Phone\":\"\",\"Website\":\"\",\"Rating\":4.5},{\"Name\":\"Baalbek Food\",\"Address\":\"Sch\\\\u00f6nwalder Str. 34, Berlin\",\"Phone\":\"\",\"Website\":\"\",\"Rating\":4.6},{\"Name\":\"Omdur - Sudanese Streetfood Restaurant\",\"Address\":\"Schlesische Str. 38, Berlin\",\"Phone\":\"\",\"Website\":\"\",\"Rating\":5},{\"Name\":\"Le Food, Asiatische K\\\\u00fcche\",\"Address\":\"Langhansstra\\\\u00dfe 12, Berlin\",\"Phone\":\"\",\"Website\":\"\",\"Rating\":4.6},{\"Name\":\"Sahara Imbiss\",\"Address\":\"Ebersstra\\\\u00dfe 74, Berlin\",\"Phone\":\"\",\"Website\":\"\",\"Rating\":4.6},{\"Name\":\"Mana Restaurant\",\"Address\":\"Merseburger Str. 15, Berlin\",\"Phone\":\"\",\"Website\":\"\",\"Rating\":4.4},{\"Name\":\"Five Guys Berlin Ku\\'Damm\",\"Address\":\"Joachimsthaler Str. 10, Berlin\",\"Phone\":\"\",\"Website\":\"\",\"Rating\":4},{\"Name\":\"Berlin Food Week\",\"Address\":\"Unter den Linden 26, Berlin\",\"Phone\":\"\",\"Website\":\"\",\"Rating\":0},{\"Name\":\"MANA Food Moabit\",\"Address\":\"Bremer Str. 67, Berlin\",\"Phone\":\"\",\"Website\":\"\",\"Rating\":4.4},{\"Name\":\"Grande Gyros\",\"Address\":\"Bergmannstra\\\\u00dfe 88, Berlin\",\"Phone\":\"\",\"Website\":\"\",\"Rating\":4.5},{\"Name\":\"FOODFACTORY Cube Berlin - Food-Court, Restaurant & Caf\\\\u00e9 am Hbf\",\"Address\":\"Washingtonpl. 3, Berlin\",\"Phone\":\"\",\"Website\":\"\",\"Rating\":4.2},{\"Name\":\".\",\"Address\":\"Kurf\\\\u00fcrstendamm 37, Berlin\",\"Phone\":\"\",\"Website\":\"\",\"Rating\":0},{\"Name\":\"House of Burgerz\",\"Address\":\"Sch\\\\u00fctzenstra\\\\u00dfe 2, Berlin\",\"Phone\":\"\",\"Website\":\"\",\"Rating\":4.9},{\"Name\":\"Olympia\",\"Address\":\"Rudower Ch 5a, Berlin\",\"Phone\":\"\",\"Website\":\"\",\"Rating\":4.5},{\"Name\":\"Risa Chicken\",\"Address\":\"Hardenbergpl. 2, Berlin\",\"Phone\":\"\",\"Website\":\"\",\"Rating\":4},{\"Name\":\"MAMMAM Gark\\\\u00fcche Street Food aus Vietnam und Thailand\",\"Address\":\"Krossener Str. 14, Berlin\",\"Phone\":\"\",\"Website\":\"\",\"Rating\":4.4},{\"Name\":\"W - Der Imbiss | vegan vegetarisches Restaurant\",\"Address\":\"Fuggerstra\\\\u00dfe 20, Berlin\",\"Phone\":\"\",\"Website\":\"\",\"Rating\":4.5},{\"Name\":\"Mr. Gyros\",\"Address\":\"Grunewaldstra\\\\u00dfe 54, Berlin\",\"Phone\":\"\",\"Website\":\"\",\"Rating\":4.5},{\"Name\":\"Swing Kitchen\",\"Address\":\"Rosenthaler Str. 63-64, Berlin\",\"Phone\":\"\",\"Website\":\"\",\"Rating\":4.4},{\"Name\":\"Curry 61\",\"Address\":\"Oranienburger Str. 6, Berlin\",\"Phone\":\"\",\"Website\":\"\",\"Rating\":4.6},{\"Name\":\"Risa Chicken\",\"Address\":\"Sonnenallee 26 D, Berlin\",\"Phone\":\"\",\"Website\":\"\",\"Rating\":4.1}]'"
            ]
          },
          "execution_count": 23,
          "metadata": {},
          "output_type": "execute_result"
        }
      ],
      "source": [
        "json_string"
      ]
    }
  ],
  "metadata": {
    "colab": {
      "provenance": []
    },
    "kernelspec": {
      "display_name": "Python 3",
      "name": "python3"
    },
    "language_info": {
      "name": "python"
    }
  },
  "nbformat": 4,
  "nbformat_minor": 0
}
